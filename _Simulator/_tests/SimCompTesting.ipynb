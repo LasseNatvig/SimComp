{
 "cells": [
  {
   "cell_type": "markdown",
   "metadata": {},
   "source": [
    "# SimCompTesting.ipynb\n",
    "- see [SimComp at github](https://github.com/LasseNatvig/SimComp/blob/master/testing.md) for more documentation."
   ]
  },
  {
   "cell_type": "code",
   "execution_count": 1,
   "metadata": {
    "collapsed": false
   },
   "outputs": [
    {
     "name": "stdout",
     "output_type": "stream",
     "text": [
      "        1 file(s) copied.\n"
     ]
    }
   ],
   "source": [
    "copy ..\\..\\_Console\\_src\\x64\\Release\\SimComp_Console.exe ep1"
   ]
  },
  {
   "cell_type": "markdown",
   "metadata": {},
   "source": [
    "## Testing episode 1\n",
    "- myDiff reports in format (was, should_be), and lets lines starting with a single '@' pass without checking since those are used to report performance and will vary"
   ]
  },
  {
   "cell_type": "code",
   "execution_count": 2,
   "metadata": {
    "collapsed": false
   },
   "outputs": [
    {
     "name": "stdout",
     "output_type": "stream",
     "text": [
      "C:\\code\\simcomp\\_Simulator\\_tests\\ep1\n"
     ]
    }
   ],
   "source": [
    "cd ep1"
   ]
  },
  {
   "cell_type": "code",
   "execution_count": 4,
   "metadata": {
    "collapsed": false
   },
   "outputs": [
    {
     "name": "stdout",
     "output_type": "stream",
     "text": [
      "****** myDiff compares results.txt with correct_asm0.out ... --- myDiff ends\n",
      "****** myDiff compares results.txt with correct_asm1.out ... --- myDiff ends\n",
      "****** myDiff compares results.txt with correct_asm3b.out ... --- myDiff ends\n"
     ]
    }
   ],
   "source": [
    "%run correctness_test.py"
   ]
  },
  {
   "cell_type": "code",
   "execution_count": 9,
   "metadata": {
    "collapsed": true
   },
   "outputs": [],
   "source": [
    "%matplotlib inline"
   ]
  },
  {
   "cell_type": "code",
   "execution_count": 6,
   "metadata": {
    "collapsed": false
   },
   "outputs": [
    {
     "data": {
      "image/png": "[encoded data removed]",
      "text/plain": [
       "<matplotlib.figure.Figure at 0x80be898>"
      ]
     },
     "metadata": {},
     "output_type": "display_data"
    },
    {
     "name": "stdout",
     "output_type": "stream",
     "text": [
      "Maximum is 53.94\n",
      "Average is 52.403\n",
      "Standard deviation is 0.964417\n",
      "\n",
      "IPython CPU timings (estimated):\n",
      "  User   :      38.40 s.\n",
      "  System :       0.00 s.\n",
      "Wall time:      38.40 s.\n"
     ]
    }
   ],
   "source": [
    "%run -t performance_test.py"
   ]
  },
  {
   "cell_type": "markdown",
   "metadata": {},
   "source": [
    "Measured data is stored at results_measured.txt. (The above performance test is a bit clumsy in the way of doing repeated runs. It will be improved in later versions) \n"
   ]
  },
  {
   "cell_type": "markdown",
   "metadata": {},
   "source": [
    "## Testing episode 2\n",
    "- stay tuned ...."
   ]
  },
  {
   "cell_type": "code",
   "execution_count": null,
   "metadata": {
    "collapsed": true
   },
   "outputs": [],
   "source": []
  }
 ],
 "metadata": {
  "kernelspec": {
   "display_name": "Python 2",
   "language": "python",
   "name": "python2"
  },
  "language_info": {
   "codemirror_mode": {
    "name": "ipython",
    "version": 2
   },
   "file_extension": ".py",
   "mimetype": "text/x-python",
   "name": "python",
   "nbconvert_exporter": "python",
   "pygments_lexer": "ipython2",
   "version": "2.7.13"
  }
 },
 "nbformat": 4,
 "nbformat_minor": 0
}
